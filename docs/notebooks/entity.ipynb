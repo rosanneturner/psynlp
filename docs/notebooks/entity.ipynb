{
 "cells": [
  {
   "cell_type": "code",
   "execution_count": 1,
   "metadata": {},
   "outputs": [],
   "source": [
    "sentences = ['Psychose in voorgeschiedenis.',\n",
    "             'Pas op voor psychotische verschijnselen bij voorschrijven medicatie.',\n",
    "             'Broer bekend met psychose.',\n",
    "             'Patient is niet psychotisch, maar wel depressief']"
   ]
  },
  {
   "cell_type": "markdown",
   "metadata": {},
   "source": [
    "## Entity Matching"
   ]
  },
  {
   "cell_type": "code",
   "execution_count": 2,
   "metadata": {},
   "outputs": [],
   "source": [
    "from psynlp.entity import BasicEntityMatcher"
   ]
  },
  {
   "cell_type": "code",
   "execution_count": 3,
   "metadata": {},
   "outputs": [],
   "source": [
    "entity_phrases = {}\n",
    "\n",
    "entity_phrases['psychose'] = ['psychose', 'psychotisch', 'psychotische verschijnselen']\n",
    "entity_phrases['depressie'] = ['depressie', 'depressief', 'depressieve verschijnselen']\n",
    "\n",
    "bem = BasicEntityMatcher(entity_phrases)"
   ]
  },
  {
   "cell_type": "code",
   "execution_count": 4,
   "metadata": {},
   "outputs": [
    {
     "name": "stdout",
     "output_type": "stream",
     "text": [
      "Psychose in voorgeschiedenis.\n",
      "  token_span=(0, 1), rule=psychose, text=Psychose\n",
      "\n",
      "Pas op voor psychotische verschijnselen bij voorschrijven medicatie.\n",
      "  token_span=(3, 5), rule=psychose, text=psychotische verschijnselen\n",
      "\n",
      "Broer bekend met psychose.\n",
      "  token_span=(3, 4), rule=psychose, text=psychose\n",
      "\n",
      "Patient is niet psychotisch, maar wel depressief\n",
      "  token_span=(3, 4), rule=psychose, text=psychotisch\n",
      "  token_span=(7, 8), rule=depressie, text=depressief\n",
      "\n"
     ]
    }
   ],
   "source": [
    "for sentence in sentences:\n",
    "\n",
    "    print(sentence)\n",
    "    \n",
    "    entities = bem.extract_entities(sentence)\n",
    "    \n",
    "    \n",
    "    for entity in entities:\n",
    "        print(\"  {}\".format(entity))\n",
    "        \n",
    "    print(\"\")"
   ]
  }
 ],
 "metadata": {
  "kernelspec": {
   "display_name": "Python 3",
   "language": "python",
   "name": "python3"
  },
  "language_info": {
   "codemirror_mode": {
    "name": "ipython",
    "version": 3
   },
   "file_extension": ".py",
   "mimetype": "text/x-python",
   "name": "python",
   "nbconvert_exporter": "python",
   "pygments_lexer": "ipython3",
   "version": "3.7.5"
  }
 },
 "nbformat": 4,
 "nbformat_minor": 2
}
