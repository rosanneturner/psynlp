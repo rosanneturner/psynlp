{
 "cells": [
  {
   "cell_type": "code",
   "execution_count": 1,
   "metadata": {},
   "outputs": [],
   "source": [
    "import pandas as pd\n",
    "import numpy as np"
   ]
  },
  {
   "cell_type": "code",
   "execution_count": 2,
   "metadata": {},
   "outputs": [],
   "source": [
    "def print_clean(string):\n",
    "    print(repr(string))"
   ]
  },
  {
   "cell_type": "code",
   "execution_count": 3,
   "metadata": {},
   "outputs": [],
   "source": [
    "texts = ['Dit is een tekst. Er staan meerdere zinnen in.',\n",
    "         'Deze tèkst heeft véél speciale karäktérs  en dubbele    spaties', \n",
    "         'Hier een tekst met een \\n witregel \\n\\n of soms twee',\n",
    "         'Sommige teksten hebben afkortingen, en dat is m.n. lastig bij het splitsen in zinnen'\n",
    "        ]"
   ]
  },
  {
   "cell_type": "markdown",
   "metadata": {},
   "source": [
    "## Normalizing"
   ]
  },
  {
   "cell_type": "code",
   "execution_count": 4,
   "metadata": {},
   "outputs": [],
   "source": [
    "from psynlp.preprocessing import BasicNormalizer"
   ]
  },
  {
   "cell_type": "code",
   "execution_count": 5,
   "metadata": {},
   "outputs": [],
   "source": [
    "bn = BasicNormalizer()"
   ]
  },
  {
   "cell_type": "code",
   "execution_count": 6,
   "metadata": {},
   "outputs": [
    {
     "name": "stdout",
     "output_type": "stream",
     "text": [
      "'Dit is een tekst. Er staan meerdere zinnen in.'\n",
      "'Deze tekst heeft veel speciale karakters en dubbele spaties'\n",
      "'Hier een tekst met een \\n witregel \\n of soms twee'\n",
      "'Sommige teksten hebben afkortingen, en dat is m.n. lastig bij het splitsen in zinnen'\n"
     ]
    }
   ],
   "source": [
    "for text in texts:\n",
    "    t = bn.normalize(text)\n",
    "    print_clean(t)"
   ]
  },
  {
   "cell_type": "markdown",
   "metadata": {},
   "source": [
    "## Sentence splitting"
   ]
  },
  {
   "cell_type": "code",
   "execution_count": 7,
   "metadata": {},
   "outputs": [],
   "source": [
    "from psynlp.preprocessing import BasicSentenceSplitter"
   ]
  },
  {
   "cell_type": "code",
   "execution_count": 8,
   "metadata": {},
   "outputs": [],
   "source": [
    "bss = BasicSentenceSplitter()"
   ]
  },
  {
   "cell_type": "code",
   "execution_count": 9,
   "metadata": {},
   "outputs": [
    {
     "name": "stdout",
     "output_type": "stream",
     "text": [
      "['Dit is een tekst.', 'Er staan meerdere zinnen in.']\n",
      "['Deze tekst heeft veel speciale karakters en dubbele spaties']\n",
      "['Hier een tekst met een', 'witregel', 'of soms twee']\n",
      "['Sommige teksten hebben afkortingen, en dat is mn lastig bij het splitsen in zinnen']\n"
     ]
    }
   ],
   "source": [
    "for text in texts:    \n",
    "    sentences = bss.split(text)    \n",
    "    print_clean(sentences)    "
   ]
  },
  {
   "cell_type": "markdown",
   "metadata": {},
   "source": [
    "#### Processing a dataframe"
   ]
  },
  {
   "cell_type": "code",
   "execution_count": 10,
   "metadata": {},
   "outputs": [],
   "source": [
    "df = pd.DataFrame([texts[0:2], texts[2:4]], columns=['Beleid', 'Conclusie'])\n",
    "\n",
    "df['text_id'] = np.arange(len(df)) + 1"
   ]
  },
  {
   "cell_type": "code",
   "execution_count": 11,
   "metadata": {},
   "outputs": [
    {
     "data": {
      "text/html": [
       "<div>\n",
       "<style scoped>\n",
       "    .dataframe tbody tr th:only-of-type {\n",
       "        vertical-align: middle;\n",
       "    }\n",
       "\n",
       "    .dataframe tbody tr th {\n",
       "        vertical-align: top;\n",
       "    }\n",
       "\n",
       "    .dataframe thead th {\n",
       "        text-align: right;\n",
       "    }\n",
       "</style>\n",
       "<table border=\"1\" class=\"dataframe\">\n",
       "  <thead>\n",
       "    <tr style=\"text-align: right;\">\n",
       "      <th></th>\n",
       "      <th>Beleid</th>\n",
       "      <th>Conclusie</th>\n",
       "      <th>text_id</th>\n",
       "    </tr>\n",
       "  </thead>\n",
       "  <tbody>\n",
       "    <tr>\n",
       "      <th>0</th>\n",
       "      <td>Dit is een tekst. Er staan meerdere zinnen in.</td>\n",
       "      <td>Deze tèkst heeft véél speciale karäktérs  en d...</td>\n",
       "      <td>1</td>\n",
       "    </tr>\n",
       "    <tr>\n",
       "      <th>1</th>\n",
       "      <td>Hier een tekst met een \\n witregel \\n\\n of som...</td>\n",
       "      <td>Sommige teksten hebben afkortingen, en dat is ...</td>\n",
       "      <td>2</td>\n",
       "    </tr>\n",
       "  </tbody>\n",
       "</table>\n",
       "</div>"
      ],
      "text/plain": [
       "                                              Beleid  \\\n",
       "0     Dit is een tekst. Er staan meerdere zinnen in.   \n",
       "1  Hier een tekst met een \\n witregel \\n\\n of som...   \n",
       "\n",
       "                                           Conclusie  text_id  \n",
       "0  Deze tèkst heeft véél speciale karäktérs  en d...        1  \n",
       "1  Sommige teksten hebben afkortingen, en dat is ...        2  "
      ]
     },
     "execution_count": 11,
     "metadata": {},
     "output_type": "execute_result"
    }
   ],
   "source": [
    "df"
   ]
  },
  {
   "cell_type": "code",
   "execution_count": 12,
   "metadata": {},
   "outputs": [
    {
     "data": {
      "text/html": [
       "<div>\n",
       "<style scoped>\n",
       "    .dataframe tbody tr th:only-of-type {\n",
       "        vertical-align: middle;\n",
       "    }\n",
       "\n",
       "    .dataframe tbody tr th {\n",
       "        vertical-align: top;\n",
       "    }\n",
       "\n",
       "    .dataframe thead th {\n",
       "        text-align: right;\n",
       "    }\n",
       "</style>\n",
       "<table border=\"1\" class=\"dataframe\">\n",
       "  <thead>\n",
       "    <tr style=\"text-align: right;\">\n",
       "      <th></th>\n",
       "      <th>text_id</th>\n",
       "      <th>stelling</th>\n",
       "      <th>text</th>\n",
       "      <th>sentence_counter</th>\n",
       "    </tr>\n",
       "  </thead>\n",
       "  <tbody>\n",
       "    <tr>\n",
       "      <th>0</th>\n",
       "      <td>1</td>\n",
       "      <td>Conclusie</td>\n",
       "      <td>Deze tekst heeft veel speciale karakters en du...</td>\n",
       "      <td>1</td>\n",
       "    </tr>\n",
       "    <tr>\n",
       "      <th>1</th>\n",
       "      <td>2</td>\n",
       "      <td>Conclusie</td>\n",
       "      <td>Sommige teksten hebben afkortingen, en dat is ...</td>\n",
       "      <td>1</td>\n",
       "    </tr>\n",
       "    <tr>\n",
       "      <th>2</th>\n",
       "      <td>1</td>\n",
       "      <td>Beleid</td>\n",
       "      <td>Dit is een tekst.</td>\n",
       "      <td>1</td>\n",
       "    </tr>\n",
       "    <tr>\n",
       "      <th>2</th>\n",
       "      <td>1</td>\n",
       "      <td>Beleid</td>\n",
       "      <td>Er staan meerdere zinnen in.</td>\n",
       "      <td>2</td>\n",
       "    </tr>\n",
       "    <tr>\n",
       "      <th>3</th>\n",
       "      <td>2</td>\n",
       "      <td>Beleid</td>\n",
       "      <td>Hier een tekst met een</td>\n",
       "      <td>1</td>\n",
       "    </tr>\n",
       "    <tr>\n",
       "      <th>3</th>\n",
       "      <td>2</td>\n",
       "      <td>Beleid</td>\n",
       "      <td>witregel</td>\n",
       "      <td>2</td>\n",
       "    </tr>\n",
       "    <tr>\n",
       "      <th>3</th>\n",
       "      <td>2</td>\n",
       "      <td>Beleid</td>\n",
       "      <td>of soms twee</td>\n",
       "      <td>3</td>\n",
       "    </tr>\n",
       "  </tbody>\n",
       "</table>\n",
       "</div>"
      ],
      "text/plain": [
       "   text_id   stelling                                               text  \\\n",
       "0        1  Conclusie  Deze tekst heeft veel speciale karakters en du...   \n",
       "1        2  Conclusie  Sommige teksten hebben afkortingen, en dat is ...   \n",
       "2        1     Beleid                                  Dit is een tekst.   \n",
       "2        1     Beleid                       Er staan meerdere zinnen in.   \n",
       "3        2     Beleid                             Hier een tekst met een   \n",
       "3        2     Beleid                                           witregel   \n",
       "3        2     Beleid                                       of soms twee   \n",
       "\n",
       "   sentence_counter  \n",
       "0                 1  \n",
       "1                 1  \n",
       "2                 1  \n",
       "2                 2  \n",
       "3                 1  \n",
       "3                 2  \n",
       "3                 3  "
      ]
     },
     "execution_count": 12,
     "metadata": {},
     "output_type": "execute_result"
    }
   ],
   "source": [
    "bss.process_dataframe(df, hash_var='text_id', text_columns=['Conclusie', 'Beleid'])"
   ]
  },
  {
   "cell_type": "markdown",
   "metadata": {},
   "source": [
    "## Tokenzing"
   ]
  },
  {
   "cell_type": "code",
   "execution_count": 13,
   "metadata": {},
   "outputs": [],
   "source": [
    "from psynlp.preprocessing import SpacyTokenizer"
   ]
  },
  {
   "cell_type": "code",
   "execution_count": 14,
   "metadata": {},
   "outputs": [],
   "source": [
    "spacy_model_name = \"default_model\"\n",
    "\n",
    "st = SpacyTokenizer(spacy_model_name)"
   ]
  },
  {
   "cell_type": "code",
   "execution_count": 15,
   "metadata": {},
   "outputs": [
    {
     "name": "stdout",
     "output_type": "stream",
     "text": [
      "['Dit', 'is', 'een', 'tekst', '.']\n",
      "['Er', 'staan', 'meerdere', 'zinnen', 'in', '.']\n",
      "['Deze', 'tekst', 'heeft', 'veel', 'speciale', 'karakters', 'en', 'dubbele', 'spaties']\n",
      "['Hier', 'een', 'tekst', 'met', 'een']\n",
      "['witregel']\n",
      "['of', 'soms', 'twee']\n",
      "['Sommige', 'teksten', 'hebben', 'afkortingen', ',', 'en', 'dat', 'is', 'mn', 'lastig', 'bij', 'het', 'splitsen', 'in', 'zinnen']\n"
     ]
    }
   ],
   "source": [
    "for text in texts:\n",
    "    \n",
    "    sentences = bss.split(text)\n",
    "    \n",
    "    for sentence in sentences:\n",
    "        tokens = st.tokenize(sentence)\n",
    "        print_clean(tokens)\n",
    "    "
   ]
  }
 ],
 "metadata": {
  "kernelspec": {
   "display_name": "Python 3",
   "language": "python",
   "name": "python3"
  },
  "language_info": {
   "codemirror_mode": {
    "name": "ipython",
    "version": 3
   },
   "file_extension": ".py",
   "mimetype": "text/x-python",
   "name": "python",
   "nbconvert_exporter": "python",
   "pygments_lexer": "ipython3",
   "version": "3.7.5"
  }
 },
 "nbformat": 4,
 "nbformat_minor": 2
}
