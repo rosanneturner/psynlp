{
 "cells": [
  {
   "cell_type": "code",
   "execution_count": 1,
   "metadata": {},
   "outputs": [],
   "source": [
    "def print_clean(string):\n",
    "    print(repr(string))"
   ]
  },
  {
   "cell_type": "code",
   "execution_count": 2,
   "metadata": {},
   "outputs": [],
   "source": [
    "sentences = ['patiënt is derpessief', \n",
    "             'deze zin bevat een splefout',\n",
    "             'patient heeft bij eten pijn aan zijn tant',             \n",
    "             'patient kreeg bezoek van zijn oom en tant',\n",
    "            ]"
   ]
  },
  {
   "cell_type": "markdown",
   "metadata": {},
   "source": [
    "## Spelling"
   ]
  },
  {
   "cell_type": "code",
   "execution_count": 3,
   "metadata": {},
   "outputs": [],
   "source": [
    "from psynlp.spelling import SpellChecker"
   ]
  },
  {
   "cell_type": "code",
   "execution_count": 4,
   "metadata": {},
   "outputs": [],
   "source": [
    "spacy_model_name = \"default_model\"\n",
    "\n",
    "sc_noisy = SpellChecker(spacy_model_name, use_ranker='noisy')\n",
    "sc_embed = SpellChecker(spacy_model_name, use_ranker='embedding')"
   ]
  },
  {
   "cell_type": "code",
   "execution_count": 5,
   "metadata": {},
   "outputs": [
    {
     "name": "stdout",
     "output_type": "stream",
     "text": [
      "'Noisy correction: patient is depressief'\n",
      "'Embed correction: patient is depressief'\n",
      "\n",
      "'Noisy correction: deze zin bevat een spelfout'\n",
      "'Embed correction: deze zin bevat een splefout'\n",
      "\n",
      "'Noisy correction: patient heeft bij eten pijn aan zijn tante'\n",
      "'Embed correction: patient heeft bij eten pijn aan zijn tand'\n",
      "\n",
      "'Noisy correction: patient kreeg bezoek van zijn oom en tante'\n",
      "'Embed correction: patient kreeg bezoek van zijn oom en tante'\n",
      "\n"
     ]
    }
   ],
   "source": [
    "for sentence in sentences:\n",
    "    \n",
    "    noisy_correction = sc_noisy.correct(sentence)\n",
    "    embed_correction = sc_embed.correct(sentence)\n",
    "    \n",
    "    print_clean(\"Noisy correction: \" + noisy_correction)\n",
    "    print_clean(\"Embed correction: \" + embed_correction)\n",
    "    print(\"\")"
   ]
  }
 ],
 "metadata": {
  "kernelspec": {
   "display_name": "Python 3",
   "language": "python",
   "name": "python3"
  },
  "language_info": {
   "codemirror_mode": {
    "name": "ipython",
    "version": 3
   },
   "file_extension": ".py",
   "mimetype": "text/x-python",
   "name": "python",
   "nbconvert_exporter": "python",
   "pygments_lexer": "ipython3",
   "version": "3.7.5"
  }
 },
 "nbformat": 4,
 "nbformat_minor": 2
}
